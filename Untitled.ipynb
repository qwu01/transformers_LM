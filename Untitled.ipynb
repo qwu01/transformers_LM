{
 "cells": [
  {
   "cell_type": "code",
   "execution_count": 1,
   "metadata": {},
   "outputs": [],
   "source": [
    "import torch\n",
    "import random\n",
    "import time\n",
    "import numpy as np\n",
    "import sentencepiece as spm\n",
    "from transformers import ReformerConfig, ReformerModelWithLMHead, ReformerTokenizer, EncoderDecoderConfig, EncoderDecoderModel\n",
    "from torch.utils.data import DataLoader, Dataset\n",
    "\n",
    "NUM_BATCHES = None\n",
    "BATCH_SIZE = 60\n",
    "LEARNING_RATE = 0.01 #1e-4 #1e-4\n",
    "VALIDATE_EVERY = 10\n",
    "SEQ_LEN = 4608"
   ]
  },
  {
   "cell_type": "code",
   "execution_count": 4,
   "metadata": {},
   "outputs": [],
   "source": [
    "# spm.SentencePieceTrainer.Train(\"--input=./data/tokenizer/AAresiduals.txt \\\n",
    "#                                 --vocab_size=28 \\\n",
    "#                                 --model_prefix=sequence_tokenizer \\\n",
    "#                                 --model_type=char \\\n",
    "#                                 --character_coverage=1.0\")\n",
    "### sequence_tokenizer.model and .vocab moved to ./data/tokenizer/\n",
    "tokenizer = ReformerTokenizer(vocab_file=\"./data/tokenizer/sequence_tokenizer.model\", do_lower_case=False, model_max_length=SEQ_LEN)"
   ]
  },
  {
   "cell_type": "code",
   "execution_count": 6,
   "metadata": {},
   "outputs": [],
   "source": [
    "configuration = ReformerConfig.from_pretrained(\"google/reformer-crime-and-punishment\")\n",
    "configuration.axial_pos_shape = (64, 72)\n",
    "configuration.max_position_embeddings=SEQ_LEN\n",
    "configuration.vocab_size=tokenizer.vocab_size\n",
    "\n",
    "configuration.attn_layers = [\"local\",\"lsh\"]\n",
    "configuration.output_hidden_states=True\n",
    "\n",
    "configuration.save_pretrained('model_config/config/')\n",
    "\n",
    "# saved to ./model_config/config/"
   ]
  },
  {
   "cell_type": "code",
   "execution_count": null,
   "metadata": {},
   "outputs": [],
   "source": [
    "import logging\n",
    "import math\n",
    "import os\n",
    "from dataclasses import dataclass, field\n",
    "from typing import Optional\n",
    "\n",
    "from transformers import (\n",
    "    CONFIG_MAPPING,\n",
    "    MODEL_WITH_LM_HEAD_MAPPING,\n",
    "    AutoConfig,\n",
    "    AutoModelWithLMHead,\n",
    "    AutoTokenizer,\n",
    "    DataCollatorForLanguageModeling,\n",
    "    HfArgumentParser,\n",
    "    LineByLineTextDataset,\n",
    "    PreTrainedTokenizer,\n",
    "    TextDataset,\n",
    "    Trainer,\n",
    "    TrainingArguments,\n",
    "    set_seed,\n",
    ")\n"
   ]
  }
 ],
 "metadata": {
  "kernelspec": {
   "display_name": "Python 3",
   "language": "python",
   "name": "python3"
  },
  "language_info": {
   "codemirror_mode": {
    "name": "ipython",
    "version": 3
   },
   "file_extension": ".py",
   "mimetype": "text/x-python",
   "name": "python",
   "nbconvert_exporter": "python",
   "pygments_lexer": "ipython3",
   "version": "3.7.7"
  }
 },
 "nbformat": 4,
 "nbformat_minor": 4
}
